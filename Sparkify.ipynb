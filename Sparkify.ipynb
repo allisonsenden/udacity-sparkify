{
 "cells": [
  {
   "cell_type": "markdown",
   "metadata": {},
   "source": [
    "# Sparkify Project Workspace\n",
    "This workspace contains a tiny subset (128MB) of the full dataset available (12GB). Feel free to use this workspace to build your project, or to explore a smaller subset with Spark before deploying your cluster on the cloud. Instructions for setting up your Spark cluster is included in the last lesson of the Extracurricular Spark Course content.\n",
    "\n",
    "You can follow the steps below to guide your data analysis and model building portion of this project."
   ]
  },
  {
   "cell_type": "code",
   "execution_count": 40,
   "metadata": {},
   "outputs": [],
   "source": [
    "# import libraries\n",
    "import pandas as pd\n",
    "import numpy as np\n",
    "import matplotlib.pyplot as py\n",
    "import seaborn as sns\n",
    "import datetime\n",
    "import re\n",
    "\n",
    "from pyspark.sql import SparkSession, Window\n",
    "from pyspark.sql.functions import avg, col, concat, desc, explode, lit, min, max, split, udf, isnull\n",
    "from pyspark.sql.types import IntegerType\n",
    "from pyspark.sql.functions import sum as Fsum\n",
    "from pyspark.sql import types as sT\n",
    "\n",
    "from pyspark.ml import Pipeline\n",
    "from pyspark.ml.classification import LogisticRegression, RandomForestClassifier, GBTClassifier, DecisionTreeClassifier, NaiveBayes\n",
    "from pyspark.ml.evaluation import MulticlassClassificationEvaluator\n",
    "from pyspark.ml.feature import CountVectorizer, IDF, Normalizer, PCA, RegexTokenizer, StandardScaler, StopWordsRemover, StringIndexer, VectorAssembler\n",
    "from pyspark.ml.regression import LinearRegression\n",
    "from pyspark.ml.tuning import CrossValidator, ParamGridBuilder\n"
   ]
  },
  {
   "cell_type": "code",
   "execution_count": 41,
   "metadata": {},
   "outputs": [],
   "source": [
    "# create a Spark session\n",
    "spark = SparkSession.builder.appName(\"Sparkify\").getOrCreate()"
   ]
  },
  {
   "cell_type": "markdown",
   "metadata": {},
   "source": [
    "# Load and Clean Dataset\n",
    "In this workspace, the mini-dataset file is `mini_sparkify_event_data.json`. Load and clean the dataset, checking for invalid or missing data - for example, records without userids or sessionids. "
   ]
  },
  {
   "cell_type": "code",
   "execution_count": 42,
   "metadata": {},
   "outputs": [
    {
     "data": {
      "text/plain": [
       "Row(artist='Martha Tilston', auth='Logged In', firstName='Colin', gender='M', itemInSession=50, lastName='Freeman', length=277.89016, level='paid', location='Bakersfield, CA', method='PUT', page='NextSong', registration=1538173362000, sessionId=29, song='Rockpools', status=200, ts=1538352117000, userAgent='Mozilla/5.0 (Windows NT 6.1; WOW64; rv:31.0) Gecko/20100101 Firefox/31.0', userId='30')"
      ]
     },
     "execution_count": 42,
     "metadata": {},
     "output_type": "execute_result"
    }
   ],
   "source": [
    "sparkify_data = 'mini_sparkify_event_data.json'\n",
    "df = spark.read.json(sparkify_data)\n",
    "df.head()"
   ]
  },
  {
   "cell_type": "code",
   "execution_count": 43,
   "metadata": {},
   "outputs": [
    {
     "data": {
      "text/plain": [
       "['artist',\n",
       " 'auth',\n",
       " 'firstName',\n",
       " 'gender',\n",
       " 'itemInSession',\n",
       " 'lastName',\n",
       " 'length',\n",
       " 'level',\n",
       " 'location',\n",
       " 'method',\n",
       " 'page',\n",
       " 'registration',\n",
       " 'sessionId',\n",
       " 'song',\n",
       " 'status',\n",
       " 'ts',\n",
       " 'userAgent',\n",
       " 'userId']"
      ]
     },
     "execution_count": 43,
     "metadata": {},
     "output_type": "execute_result"
    }
   ],
   "source": [
    "df.columns"
   ]
  },
  {
   "cell_type": "code",
   "execution_count": 44,
   "metadata": {},
   "outputs": [
    {
     "name": "stdout",
     "output_type": "stream",
     "text": [
      "+----------------+---------+---------+------+-------------+--------+---------+-----+--------------------+------+--------+-------------+---------+--------------------+------+-------------+--------------------+------+\n",
      "|          artist|     auth|firstName|gender|itemInSession|lastName|   length|level|            location|method|    page| registration|sessionId|                song|status|           ts|           userAgent|userId|\n",
      "+----------------+---------+---------+------+-------------+--------+---------+-----+--------------------+------+--------+-------------+---------+--------------------+------+-------------+--------------------+------+\n",
      "|  Martha Tilston|Logged In|    Colin|     M|           50| Freeman|277.89016| paid|     Bakersfield, CA|   PUT|NextSong|1538173362000|       29|           Rockpools|   200|1538352117000|Mozilla/5.0 (Wind...|    30|\n",
      "|Five Iron Frenzy|Logged In|    Micah|     M|           79|    Long|236.09424| free|Boston-Cambridge-...|   PUT|NextSong|1538331630000|        8|              Canada|   200|1538352180000|\"Mozilla/5.0 (Win...|     9|\n",
      "|    Adam Lambert|Logged In|    Colin|     M|           51| Freeman| 282.8273| paid|     Bakersfield, CA|   PUT|NextSong|1538173362000|       29|   Time For Miracles|   200|1538352394000|Mozilla/5.0 (Wind...|    30|\n",
      "|          Enigma|Logged In|    Micah|     M|           80|    Long|262.71302| free|Boston-Cambridge-...|   PUT|NextSong|1538331630000|        8|Knocking On Forbi...|   200|1538352416000|\"Mozilla/5.0 (Win...|     9|\n",
      "|       Daft Punk|Logged In|    Colin|     M|           52| Freeman|223.60771| paid|     Bakersfield, CA|   PUT|NextSong|1538173362000|       29|Harder Better Fas...|   200|1538352676000|Mozilla/5.0 (Wind...|    30|\n",
      "+----------------+---------+---------+------+-------------+--------+---------+-----+--------------------+------+--------+-------------+---------+--------------------+------+-------------+--------------------+------+\n",
      "only showing top 5 rows\n",
      "\n"
     ]
    }
   ],
   "source": [
    "df.show(5)"
   ]
  },
  {
   "cell_type": "code",
   "execution_count": 45,
   "metadata": {},
   "outputs": [
    {
     "name": "stdout",
     "output_type": "stream",
     "text": [
      "Length of df: 286500\n",
      "Number of columns: 18\n"
     ]
    }
   ],
   "source": [
    "print('Length of df: ' + str(df.count()))\n",
    "print('Number of columns: '+ str(len(df.columns)))"
   ]
  },
  {
   "cell_type": "code",
   "execution_count": 46,
   "metadata": {},
   "outputs": [],
   "source": [
    "# drop nan values\n",
    "df = df.dropna(how='any', subset=['userId', 'sessionId'])"
   ]
  },
  {
   "cell_type": "code",
   "execution_count": 47,
   "metadata": {},
   "outputs": [
    {
     "name": "stdout",
     "output_type": "stream",
     "text": [
      "+------+\n",
      "|userId|\n",
      "+------+\n",
      "|      |\n",
      "|    10|\n",
      "|   100|\n",
      "|100001|\n",
      "|100002|\n",
      "|100003|\n",
      "|100004|\n",
      "|100005|\n",
      "|100006|\n",
      "|100007|\n",
      "|100008|\n",
      "|100009|\n",
      "|100010|\n",
      "|100011|\n",
      "|100012|\n",
      "|100013|\n",
      "|100014|\n",
      "|100015|\n",
      "|100016|\n",
      "|100017|\n",
      "+------+\n",
      "only showing top 20 rows\n",
      "\n"
     ]
    }
   ],
   "source": [
    "# look for empty strings as user ids\n",
    "df.select('userId').dropDuplicates().sort('userId').show()"
   ]
  },
  {
   "cell_type": "code",
   "execution_count": 48,
   "metadata": {},
   "outputs": [
    {
     "name": "stdout",
     "output_type": "stream",
     "text": [
      "Length of df: 278154\n"
     ]
    }
   ],
   "source": [
    "df = df.filter(df['userId'] != '')\n",
    "print('Length of df: ' + str(df.count()))"
   ]
  },
  {
   "cell_type": "code",
   "execution_count": 49,
   "metadata": {},
   "outputs": [
    {
     "name": "stdout",
     "output_type": "stream",
     "text": [
      "+---------+\n",
      "|sessionId|\n",
      "+---------+\n",
      "|     1981|\n",
      "|        9|\n",
      "|     1047|\n",
      "|     1592|\n",
      "|      595|\n",
      "|     1414|\n",
      "|     1782|\n",
      "|     1210|\n",
      "|     1279|\n",
      "|     1505|\n",
      "|     2240|\n",
      "|     1185|\n",
      "|      556|\n",
      "|     1299|\n",
      "|     1473|\n",
      "|     1760|\n",
      "|     1899|\n",
      "|     1353|\n",
      "|      369|\n",
      "|     1967|\n",
      "+---------+\n",
      "only showing top 20 rows\n",
      "\n"
     ]
    }
   ],
   "source": [
    "# look for empty strings in session id as well\n",
    "df.select('sessionId').dropDuplicates().sort('userId').show()"
   ]
  },
  {
   "cell_type": "markdown",
   "metadata": {},
   "source": [
    "# Exploratory Data Analysis\n",
    "When you're working with the full dataset, perform EDA by loading a small subset of the data and doing basic manipulations within Spark. In this workspace, you are already provided a small subset of data you can explore.\n",
    "\n",
    "### Define Churn\n",
    "\n",
    "Once you've done some preliminary analysis, create a column `Churn` to use as the label for your model. I suggest using the `Cancellation Confirmation` events to define your churn, which happen for both paid and free users. As a bonus task, you can also look into the `Downgrade` events.\n",
    "\n",
    "### Explore Data\n",
    "Once you've defined churn, perform some exploratory data analysis to observe the behavior for users who stayed vs users who churned. You can start by exploring aggregates on these two groups of users, observing how much of a specific action they experienced per a certain time unit or number of songs played."
   ]
  },
  {
   "cell_type": "code",
   "execution_count": 50,
   "metadata": {},
   "outputs": [
    {
     "name": "stdout",
     "output_type": "stream",
     "text": [
      "+--------------------+\n",
      "|                page|\n",
      "+--------------------+\n",
      "|              Cancel|\n",
      "|    Submit Downgrade|\n",
      "|         Thumbs Down|\n",
      "|                Home|\n",
      "|           Downgrade|\n",
      "|         Roll Advert|\n",
      "|              Logout|\n",
      "|       Save Settings|\n",
      "|Cancellation Conf...|\n",
      "|               About|\n",
      "|            Settings|\n",
      "|     Add to Playlist|\n",
      "|          Add Friend|\n",
      "|            NextSong|\n",
      "|           Thumbs Up|\n",
      "|                Help|\n",
      "|             Upgrade|\n",
      "|               Error|\n",
      "|      Submit Upgrade|\n",
      "+--------------------+\n",
      "\n"
     ]
    }
   ],
   "source": [
    "df.select(\"page\").dropDuplicates().show()"
   ]
  },
  {
   "cell_type": "code",
   "execution_count": 51,
   "metadata": {},
   "outputs": [
    {
     "name": "stdout",
     "output_type": "stream",
     "text": [
      "+---------------+-----+\n",
      "|           page|level|\n",
      "+---------------+-----+\n",
      "|       NextSong| paid|\n",
      "|       NextSong| free|\n",
      "|       NextSong| paid|\n",
      "|       NextSong| free|\n",
      "|       NextSong| paid|\n",
      "|       NextSong| free|\n",
      "|       NextSong| free|\n",
      "|       NextSong| paid|\n",
      "|Add to Playlist| paid|\n",
      "|       NextSong| paid|\n",
      "|       NextSong| free|\n",
      "|    Roll Advert| free|\n",
      "|       NextSong| paid|\n",
      "|       NextSong| free|\n",
      "|      Thumbs Up| free|\n",
      "|       NextSong| paid|\n",
      "|       NextSong| free|\n",
      "|       NextSong| free|\n",
      "|       NextSong| paid|\n",
      "|       NextSong| free|\n",
      "+---------------+-----+\n",
      "only showing top 20 rows\n",
      "\n"
     ]
    }
   ],
   "source": [
    "# just exploring the differnt account types for pages\n",
    "df.select(['page', 'level']).show()"
   ]
  },
  {
   "cell_type": "code",
   "execution_count": 52,
   "metadata": {},
   "outputs": [
    {
     "name": "stdout",
     "output_type": "stream",
     "text": [
      "+------+-----+\n",
      "|userId|level|\n",
      "+------+-----+\n",
      "|    18| paid|\n",
      "|    32| paid|\n",
      "|   125| free|\n",
      "|   105| paid|\n",
      "|    17| paid|\n",
      "|   143| free|\n",
      "|   101| paid|\n",
      "|   129| paid|\n",
      "|   121| paid|\n",
      "|    51| paid|\n",
      "+------+-----+\n",
      "only showing top 10 rows\n",
      "\n"
     ]
    }
   ],
   "source": [
    "# we can confirm cancellation confirmation happens for both free and paid accoutns\n",
    "df.filter(df.page == 'Cancellation Confirmation').select(['userId', 'level']).show(10)"
   ]
  },
  {
   "cell_type": "code",
   "execution_count": 53,
   "metadata": {},
   "outputs": [
    {
     "name": "stdout",
     "output_type": "stream",
     "text": [
      "+------+-----+------+------+----+------+-------------+-------------+------+---------+--------------------+-------------+\n",
      "|userId|level|length|method|song|status|           ts| registration|gender|sessionId|            location|itemInSession|\n",
      "+------+-----+------+------+----+------+-------------+-------------+------+---------+--------------------+-------------+\n",
      "|    18| paid|  null|   GET|null|   200|1538943990000|1535623466000|     M|      514|  Kansas City, MO-KS|          104|\n",
      "|    32| paid|  null|   GET|null|   200|1539033046000|1537167593000|     M|      540|Phoenix-Mesa-Scot...|           56|\n",
      "|   125| free|  null|   GET|null|   200|1539318918000|1533157139000|     M|      174|  Corpus Christi, TX|           10|\n",
      "|   105| paid|  null|   GET|null|   200|1539375441000|1536817381000|     M|      508|Indianapolis-Carm...|          332|\n",
      "|    17| paid|  null|   GET|null|   200|1539465584000|1538333829000|     F|      797|Philadelphia-Camd...|          273|\n",
      "|   143| free|  null|   GET|null|   200|1539588854000|1534255113000|     F|      843|Virginia Beach-No...|           29|\n",
      "|   101| paid|  null|   GET|null|   200|1539729037000|1535066380000|     M|      842|Denver-Aurora-Lak...|          145|\n",
      "|   129| paid|  null|   GET|null|   200|1539736161000|1538289776000|     M|      802|           Flint, MI|           34|\n",
      "|   121| paid|  null|   GET|null|   200|1539759749000|1528403713000|     M|      881|Oxnard-Thousand O...|          287|\n",
      "|    51| paid|  null|   GET|null|   200|1539761972000|1538080987000|     M|      934|Lexington-Fayette...|          176|\n",
      "+------+-----+------+------+----+------+-------------+-------------+------+---------+--------------------+-------------+\n",
      "only showing top 10 rows\n",
      "\n"
     ]
    }
   ],
   "source": [
    "# let's look more columns for a user that has cancellation confirmation to explore which will be most useful to us\n",
    "df.filter(df.page == 'Cancellation Confirmation').select(['userId', 'level', 'length', 'method', 'song', 'status', \\\n",
    "                                                          'ts', 'registration', 'gender', 'sessionId', \\\n",
    "                                                          'location', 'itemInSession']).show(10)"
   ]
  },
  {
   "cell_type": "markdown",
   "metadata": {},
   "source": [
    "We see here that there are a bunch of different users with cancellation confirmation status. We will have to look into the length column because everything seems to be null, which will not be useful for us in building our model. I also don't think that the method or status will be of much use, but we can keep investigating."
   ]
  },
  {
   "cell_type": "code",
   "execution_count": 54,
   "metadata": {
    "scrolled": false
   },
   "outputs": [
    {
     "name": "stdout",
     "output_type": "stream",
     "text": [
      "+------+---------------+---------+-----+--------------------+---------+\n",
      "|userId|           page|     auth|level|                song|sessionId|\n",
      "+------+---------------+---------+-----+--------------------+---------+\n",
      "|    18|           Home|Logged In| paid|                null|      242|\n",
      "|    18|       NextSong|Logged In| paid|A Beggar On A Bea...|      242|\n",
      "|    18|       NextSong|Logged In| paid|...slowdance On T...|      242|\n",
      "|    18|       NextSong|Logged In| paid|       St. Apollonia|      242|\n",
      "|    18|       NextSong|Logged In| paid|      Drunk Stripper|      242|\n",
      "|    18|       NextSong|Logged In| paid|In League With Satan|      242|\n",
      "|    18|       Settings|Logged In| paid|                null|      242|\n",
      "|    18|       NextSong|Logged In| paid|           The Quest|      242|\n",
      "|    18|       NextSong|Logged In| paid|    Waking The Demon|      242|\n",
      "|    18|       NextSong|Logged In| paid|Why Do You Let Me...|      242|\n",
      "|    18|       NextSong|Logged In| paid|High (Album Version)|      242|\n",
      "|    18|       NextSong|Logged In| paid|Remember Me_ I'm ...|      242|\n",
      "|    18|       Settings|Logged In| paid|                null|      242|\n",
      "|    18|       NextSong|Logged In| paid|          Continents|      242|\n",
      "|    18|       NextSong|Logged In| paid|               Girls|      242|\n",
      "|    18|       NextSong|Logged In| paid|       What If I Do?|      242|\n",
      "|    18|       NextSong|Logged In| paid|       Soulful Dress|      242|\n",
      "|    18|       NextSong|Logged In| paid|        Eenie Meenie|      242|\n",
      "|    18|       NextSong|Logged In| paid|          Kabul Shit|      242|\n",
      "|    18|       NextSong|Logged In| paid|Catch You Baby (S...|      242|\n",
      "|    18|       NextSong|Logged In| paid|        Window Blues|      242|\n",
      "|    18|       NextSong|Logged In| paid|           This Life|      242|\n",
      "|    18|      Thumbs Up|Logged In| paid|                null|      242|\n",
      "|    18|       NextSong|Logged In| paid|       Into Eternity|      242|\n",
      "|    18|       NextSong|Logged In| paid|        Skeleton Man|      242|\n",
      "|    18|       NextSong|Logged In| paid|Everybody Be Some...|      242|\n",
      "|    18|       NextSong|Logged In| paid|Drixxxe Vs Dj Pon...|      242|\n",
      "|    18|      Thumbs Up|Logged In| paid|                null|      242|\n",
      "|    18|       NextSong|Logged In| paid|Back 2 Good (LP V...|      242|\n",
      "|    18|       NextSong|Logged In| paid|   Je Suis De Celles|      242|\n",
      "|    18|       NextSong|Logged In| paid|  Santa Cruz Slacker|      242|\n",
      "|    18|       NextSong|Logged In| paid|           MVP Kompa|      242|\n",
      "|    18|       NextSong|Logged In| paid|          All I Need|      242|\n",
      "|    18|         Logout|Logged In| paid|                null|      242|\n",
      "|    18|           Home|Logged In| paid|                null|      242|\n",
      "|    18|       NextSong|Logged In| paid|         The General|      242|\n",
      "|    18|       NextSong|Logged In| paid|Mexican Girl (Alb...|      242|\n",
      "|    18|       NextSong|Logged In| paid|    Prisoner Of Love|      242|\n",
      "|    18|Add to Playlist|Logged In| paid|                null|      242|\n",
      "|    18|       NextSong|Logged In| paid|          Growing Up|      242|\n",
      "|    18|       NextSong|Logged In| paid|        Sotaisa rotu|      242|\n",
      "|    18|       NextSong|Logged In| paid|       Limbo A Go Go|      242|\n",
      "|    18|       NextSong|Logged In| paid|       Sehr kosmisch|      242|\n",
      "|    18|       NextSong|Logged In| paid|     Walking For You|      242|\n",
      "|    18|       NextSong|Logged In| paid|Sooner You Get To...|      242|\n",
      "|    18|       NextSong|Logged In| paid|        Forever Road|      242|\n",
      "|    18|       NextSong|Logged In| paid|       Skyway Avenue|      242|\n",
      "|    18|       NextSong|Logged In| paid|Airport Taxi Rece...|      242|\n",
      "|    18|       NextSong|Logged In| paid|This World Is Not...|      242|\n",
      "|    18|       NextSong|Logged In| paid| Slight Night Shiver|      242|\n",
      "+------+---------------+---------+-----+--------------------+---------+\n",
      "only showing top 50 rows\n",
      "\n"
     ]
    }
   ],
   "source": [
    "#looking into an individual user and different columns\n",
    "df.select([\"userId\", \"page\", 'auth', \"level\", \"song\", \"sessionId\"]).where(df.userId == \"18\").sort(\"sessionId\").show(50)"
   ]
  },
  {
   "cell_type": "code",
   "execution_count": 55,
   "metadata": {},
   "outputs": [
    {
     "data": {
      "text/plain": [
       "225"
      ]
     },
     "execution_count": 55,
     "metadata": {},
     "output_type": "execute_result"
    }
   ],
   "source": [
    "# there are 225 unique users in the entire datasett\n",
    "df.select('userId').dropDuplicates().count()"
   ]
  },
  {
   "cell_type": "code",
   "execution_count": 56,
   "metadata": {},
   "outputs": [
    {
     "data": {
      "text/plain": [
       "52"
      ]
     },
     "execution_count": 56,
     "metadata": {},
     "output_type": "execute_result"
    }
   ],
   "source": [
    "#there are only 52 unique users with cancellation confirmation\n",
    "churn_ids = df.filter(df.page == 'Cancellation Confirmation').select('userId').dropDuplicates()\n",
    "churn_ids.count()"
   ]
  },
  {
   "cell_type": "code",
   "execution_count": 57,
   "metadata": {},
   "outputs": [
    {
     "data": {
      "text/plain": [
       "[Row(artist='Sleeping With Sirens', auth='Logged In', firstName='Darianna', gender='F', itemInSession=0, lastName='Carpenter', length=202.97098, level='free', location='Bridgeport-Stamford-Norwalk, CT', method='PUT', page='NextSong', registration=1538016340000, sessionId=31, song='Captain Tyin Knots VS Mr Walkway (No Way)', status=200, ts=1539003534000, userAgent='\"Mozilla/5.0 (iPhone; CPU iPhone OS 7_1_2 like Mac OS X) AppleWebKit/537.51.2 (KHTML, like Gecko) Version/7.0 Mobile/11D257 Safari/9537.53\"', userId='100010', churn=0),\n",
       " Row(artist='Francesca Battistelli', auth='Logged In', firstName='Darianna', gender='F', itemInSession=1, lastName='Carpenter', length=196.54485, level='free', location='Bridgeport-Stamford-Norwalk, CT', method='PUT', page='NextSong', registration=1538016340000, sessionId=31, song='Beautiful_ Beautiful (Album)', status=200, ts=1539003736000, userAgent='\"Mozilla/5.0 (iPhone; CPU iPhone OS 7_1_2 like Mac OS X) AppleWebKit/537.51.2 (KHTML, like Gecko) Version/7.0 Mobile/11D257 Safari/9537.53\"', userId='100010', churn=0)]"
      ]
     },
     "execution_count": 57,
     "metadata": {},
     "output_type": "execute_result"
    }
   ],
   "source": [
    "#Let's create a column that flags whether or not a user has cancellation confirmation status\n",
    "churn_flag = udf(lambda x: 1 if x == \"Cancellation Confirmation\" else 0, IntegerType())\n",
    "df = df.withColumn('churn', churn_flag('page'))\n",
    "\n",
    "windowval = Window.partitionBy(\"userId\").rangeBetween(Window.unboundedPreceding, Window.unboundedFollowing)\n",
    "df = df.withColumn(\"churn\", Fsum(\"churn\").over(windowval))\n",
    "df.take(2)"
   ]
  },
  {
   "cell_type": "code",
   "execution_count": 58,
   "metadata": {},
   "outputs": [
    {
     "name": "stdout",
     "output_type": "stream",
     "text": [
      "Number of users who cancelled: 52\n",
      "Number of users who stayed: 173\n"
     ]
    }
   ],
   "source": [
    "# sanity check that adding our column returns only 52 unique users again\n",
    "print('Number of users who cancelled: ' + str(df.filter(df.churn == 1).select('userId').dropDuplicates().count()))\n",
    "print('Number of users who stayed: ' + str(df.filter(df.churn == 0).select('userId').dropDuplicates().count()))"
   ]
  },
  {
   "cell_type": "code",
   "execution_count": 59,
   "metadata": {},
   "outputs": [
    {
     "name": "stdout",
     "output_type": "stream",
     "text": [
      "+-----+-----+\n",
      "|churn|count|\n",
      "+-----+-----+\n",
      "|    0|  173|\n",
      "|    1|   52|\n",
      "+-----+-----+\n",
      "\n"
     ]
    }
   ],
   "source": [
    "df.dropDuplicates(['userId']).groupby(['churn']).count().show()"
   ]
  },
  {
   "cell_type": "code",
   "execution_count": 60,
   "metadata": {},
   "outputs": [
    {
     "name": "stdout",
     "output_type": "stream",
     "text": [
      "+-----+-----+-----+\n",
      "|churn|level|count|\n",
      "+-----+-----+-----+\n",
      "|    1| paid|   36|\n",
      "|    1| free|   46|\n",
      "|    0| free|  149|\n",
      "|    0| paid|  129|\n",
      "+-----+-----+-----+\n",
      "\n"
     ]
    }
   ],
   "source": [
    "df.dropDuplicates(['userId', 'level']).groupby(['churn', 'level']).count().show()\n"
   ]
  },
  {
   "cell_type": "code",
   "execution_count": 200,
   "metadata": {},
   "outputs": [
    {
     "data": {
      "text/plain": [
       "<matplotlib.axes._subplots.AxesSubplot at 0x1a1c016160>"
      ]
     },
     "execution_count": 200,
     "metadata": {},
     "output_type": "execute_result"
    },
    {
     "data": {
      "image/png": "[encoded data removed]",
      "text/plain": [
       "<Figure size 432x288 with 1 Axes>"
      ]
     },
     "metadata": {
      "needs_background": "light"
     },
     "output_type": "display_data"
    }
   ],
   "source": [
    "acct = df.dropDuplicates(['userId', 'level']).groupby(['churn', 'level']).count().toPandas()\n",
    "sns.barplot(x='churn', y='count', hue='level', data=acct)"
   ]
  },
  {
   "cell_type": "code",
   "execution_count": 197,
   "metadata": {},
   "outputs": [
    {
     "name": "stdout",
     "output_type": "stream",
     "text": [
      "+-----+------+-----+\n",
      "|churn|gender|count|\n",
      "+-----+------+-----+\n",
      "|    0|     F|   84|\n",
      "|    1|     M|   32|\n",
      "|    1|     F|   20|\n",
      "|    0|     M|   89|\n",
      "+-----+------+-----+\n",
      "\n"
     ]
    }
   ],
   "source": [
    "df.dropDuplicates(['userId', 'gender']).groupby(['churn', 'gender']).count().show()"
   ]
  },
  {
   "cell_type": "code",
   "execution_count": 198,
   "metadata": {},
   "outputs": [
    {
     "data": {
      "text/plain": [
       "<matplotlib.axes._subplots.AxesSubplot at 0x1a1bee4710>"
      ]
     },
     "execution_count": 198,
     "metadata": {},
     "output_type": "execute_result"
    },
    {
     "data": {
      "image/png": "[encoded data removed]",
      "text/plain": [
       "<Figure size 432x288 with 1 Axes>"
      ]
     },
     "metadata": {
      "needs_background": "light"
     },
     "output_type": "display_data"
    }
   ],
   "source": [
    "gend = df.dropDuplicates(['userId', 'gender']).groupby(['churn', 'gender']).count().toPandas()\n",
    "sns.barplot(x='churn', y='count', hue='gender', data=gend)"
   ]
  },
  {
   "cell_type": "code",
   "execution_count": 62,
   "metadata": {},
   "outputs": [
    {
     "name": "stdout",
     "output_type": "stream",
     "text": [
      "+-----+--------------------+-----+\n",
      "|churn|            location|count|\n",
      "+-----+--------------------+-----+\n",
      "|    0|Santa Maria-Santa...|    1|\n",
      "|    0|Louisville/Jeffer...|    1|\n",
      "|    0|         Raleigh, NC|    1|\n",
      "|    0|     Bakersfield, CA|    1|\n",
      "|    1|  Corpus Christi, TX|    1|\n",
      "|    0|         Boulder, CO|    1|\n",
      "|    0|        Billings, MT|    1|\n",
      "|    0|         Salinas, CA|    1|\n",
      "|    1|Dallas-Fort Worth...|    1|\n",
      "|    1|   Memphis, TN-MS-AR|    1|\n",
      "|    0|   Winston-Salem, NC|    1|\n",
      "|    1|San Diego-Carlsba...|    1|\n",
      "|    0|           Price, UT|    1|\n",
      "|    0|Detroit-Warren-De...|    1|\n",
      "|    0|Greensboro-High P...|    1|\n",
      "|    0|Baltimore-Columbi...|    1|\n",
      "|    0|   Stockton-Lodi, CA|    1|\n",
      "|    1|          London, KY|    1|\n",
      "|    1|Colorado Springs, CO|    1|\n",
      "|    0|            Napa, CA|    1|\n",
      "|    0|        Danville, VA|    1|\n",
      "|    1|Albany-Schenectad...|    1|\n",
      "|    1|           Selma, AL|    1|\n",
      "|    0|         Pontiac, IL|    1|\n",
      "|    0|            Troy, AL|    1|\n",
      "|    0|       Anchorage, AK|    1|\n",
      "|    0|Kingsport-Bristol...|    1|\n",
      "|    0|Vineland-Bridgeto...|    1|\n",
      "|    1|Indianapolis-Carm...|    1|\n",
      "|    0|Scranton--Wilkes-...|    1|\n",
      "|    0|Greenville-Anders...|    1|\n",
      "|    0|          Dayton, OH|    1|\n",
      "|    0|Riverside-San Ber...|    1|\n",
      "|    0|         Roanoke, VA|    1|\n",
      "|    1|Baltimore-Columbi...|    1|\n",
      "|    1|Washington-Arling...|    1|\n",
      "|    0|Atlantic City-Ham...|    1|\n",
      "|    0|         Concord, NH|    1|\n",
      "|    1|Houston-The Woodl...|    1|\n",
      "|    0|    Jacksonville, FL|    1|\n",
      "|    0|         Dubuque, IA|    1|\n",
      "|    1|New Philadelphia-...|    1|\n",
      "|    0|       Duluth, MN-WI|    1|\n",
      "|    0|          Muncie, IN|    1|\n",
      "|    0|Omaha-Council Blu...|    1|\n",
      "|    1|Oxnard-Thousand O...|    1|\n",
      "|    0|Austin-Round Rock...|    1|\n",
      "|    1|Little Rock-North...|    1|\n",
      "|    1|          Albany, OR|    1|\n",
      "|    0|Manchester-Nashua...|    1|\n",
      "|    0|          Laurel, MS|    1|\n",
      "|    0|San Jose-Sunnyval...|    1|\n",
      "|    0|    Jacksonville, NC|    1|\n",
      "|    1|  Kansas City, MO-KS|    1|\n",
      "|    0|McAllen-Edinburg-...|    1|\n",
      "|    0|  Kansas City, MO-KS|    1|\n",
      "|    0|        Logan, UT-ID|    1|\n",
      "|    1|Chicago-Napervill...|    1|\n",
      "|    1|         Bozeman, MT|    1|\n",
      "|    1|       Quincy, IL-MO|    1|\n",
      "|    1|North Wilkesboro, NC|    1|\n",
      "|    0|        Kankakee, IL|    1|\n",
      "|    0|   Oklahoma City, OK|    1|\n",
      "|    0|        Sterling, IL|    1|\n",
      "|    0|Indianapolis-Carm...|    1|\n",
      "|    0|Virginia Beach-No...|    1|\n",
      "|    0|     Gainesville, FL|    1|\n",
      "|    0|          Wilson, NC|    1|\n",
      "|    1|Lexington-Fayette...|    1|\n",
      "|    1|    St. Louis, MO-IL|    1|\n",
      "|    0|      Montgomery, AL|    1|\n",
      "|    0|Denver-Aurora-Lak...|    1|\n",
      "|    0|          London, KY|    1|\n",
      "|    1|Detroit-Warren-De...|    1|\n",
      "|    1|Greenville-Anders...|    1|\n",
      "|    1|Cleveland-Elyria, OH|    1|\n",
      "|    1|Virginia Beach-No...|    1|\n",
      "|    1|San Francisco-Oak...|    1|\n",
      "|    0|       Fairbanks, AK|    1|\n",
      "|    1|Orlando-Kissimmee...|    1|\n",
      "|    0|      Cookeville, TN|    1|\n",
      "|    0|      Morgantown, WV|    1|\n",
      "|    0|Hagerstown-Martin...|    1|\n",
      "|    0|Myrtle Beach-Conw...|    1|\n",
      "|    0|  Port St. Lucie, FL|    1|\n",
      "|    1|Denver-Aurora-Lak...|    1|\n",
      "|    0|           Ionia, MI|    1|\n",
      "|    0|Milwaukee-Waukesh...|    1|\n",
      "|    0|      Alexandria, LA|    1|\n",
      "|    1|          Monroe, LA|    1|\n",
      "|    0|Allentown-Bethleh...|    1|\n",
      "|    0|Deltona-Daytona B...|    1|\n",
      "|    1|Birmingham-Hoover...|    1|\n",
      "|    0|San Francisco-Oak...|    1|\n",
      "|    0|     Tallahassee, FL|    2|\n",
      "|    0|        Syracuse, NY|    2|\n",
      "|    0|Buffalo-Cheektowa...|    2|\n",
      "|    0|Hartford-West Har...|    2|\n",
      "|    0|Cincinnati, OH-KY-IN|    2|\n",
      "|    0|Truckee-Grass Val...|    2|\n",
      "|    1|Philadelphia-Camd...|    2|\n",
      "|    1|Spokane-Spokane V...|    2|\n",
      "|    1|Phoenix-Mesa-Scot...|    2|\n",
      "|    0|Sacramento--Rosev...|    2|\n",
      "|    0|San Antonio-New B...|    2|\n",
      "|    0|Portland-Vancouve...|    2|\n",
      "|    1|Miami-Fort Lauder...|    2|\n",
      "|    0|Minneapolis-St. P...|    2|\n",
      "|    0|Providence-Warwic...|    2|\n",
      "|    0|Tampa-St. Petersb...|    2|\n",
      "|    0|     Columbus, GA-AL|    2|\n",
      "|    1|           Flint, MI|    2|\n",
      "|    1|         Jackson, MS|    2|\n",
      "|    0|Bridgeport-Stamfo...|    2|\n",
      "|    0|      Pittsburgh, PA|    2|\n",
      "|    0|San Diego-Carlsba...|    2|\n",
      "|    0|Seattle-Tacoma-Be...|    2|\n",
      "|    0|New Haven-Milford...|    3|\n",
      "|    0|Las Vegas-Henders...|    3|\n",
      "|    0|Washington-Arling...|    3|\n",
      "|    1|Los Angeles-Long ...|    3|\n",
      "|    0|Philadelphia-Camd...|    3|\n",
      "|    0|Houston-The Woodl...|    3|\n",
      "|    0|Miami-Fort Lauder...|    3|\n",
      "|    0|Atlanta-Sandy Spr...|    4|\n",
      "|    0|    St. Louis, MO-IL|    5|\n",
      "|    0|Chicago-Napervill...|    5|\n",
      "|    0|Phoenix-Mesa-Scot...|    5|\n",
      "|    0|Boston-Cambridge-...|    5|\n",
      "|    1|New York-Newark-J...|    5|\n",
      "|    0|Charlotte-Concord...|    6|\n",
      "|    0|Dallas-Fort Worth...|    6|\n",
      "|    0|New York-Newark-J...|   10|\n",
      "|    0|Los Angeles-Long ...|   13|\n",
      "+-----+--------------------+-----+\n",
      "\n"
     ]
    }
   ],
   "source": [
    "df.dropDuplicates(['userId', 'location']).groupby(['churn', 'location']).count().orderBy('count').show(25000)\n"
   ]
  },
  {
   "cell_type": "code",
   "execution_count": 63,
   "metadata": {},
   "outputs": [
    {
     "name": "stdout",
     "output_type": "stream",
     "text": [
      "+---------+\n",
      "|     auth|\n",
      "+---------+\n",
      "|Cancelled|\n",
      "|Logged In|\n",
      "+---------+\n",
      "\n"
     ]
    }
   ],
   "source": [
    "df.select('auth').dropDuplicates().show()"
   ]
  },
  {
   "cell_type": "code",
   "execution_count": 64,
   "metadata": {},
   "outputs": [],
   "source": [
    "#let's create dataframe for what columns we think will be important to our model\n",
    "df_clean = df.select(['artist', 'auth', 'gender', 'length', 'level', 'location', \\\n",
    "                     'page', 'sessionId', 'song', 'ts', 'userAgent', 'userId', 'churn'])"
   ]
  },
  {
   "cell_type": "code",
   "execution_count": null,
   "metadata": {},
   "outputs": [],
   "source": []
  },
  {
   "cell_type": "markdown",
   "metadata": {},
   "source": [
    "# Feature Engineering\n",
    "Once you've familiarized yourself with the data, build out the features you find promising to train your model on. To work with the full dataset, you can follow the following steps.\n",
    "- Write a script to extract the necessary features from the smaller subset of data\n",
    "- Ensure that your script is scalable, using the best practices discussed in Lesson 3\n",
    "- Try your script on the full data set, debugging your script if necessary\n",
    "\n",
    "If you are working in the classroom workspace, you can just extract features based on the small subset of data contained here. Be sure to transfer over this work to the larger dataset when you work on your Spark cluster."
   ]
  },
  {
   "cell_type": "code",
   "execution_count": 65,
   "metadata": {},
   "outputs": [
    {
     "name": "stdout",
     "output_type": "stream",
     "text": [
      "+------+------------------+\n",
      "|userId| avgSongPerSession|\n",
      "+------+------------------+\n",
      "|100010|39.285714285714285|\n",
      "|200002|              64.5|\n",
      "|   125|               8.0|\n",
      "|    51|             211.1|\n",
      "|   124|145.67857142857142|\n",
      "+------+------------------+\n",
      "only showing top 5 rows\n",
      "\n"
     ]
    }
   ],
   "source": [
    "# average number of songs\n",
    "songs_per_session = df_clean.filter(df_clean.page == 'NextSong').groupby('userId', 'sessionId').count()\n",
    "avg_songs = songs_per_session.groupby('userId').agg(avg(songs_per_session['count']).alias('avgSongPerSession'))\n",
    "avg_songs.show(5)"
   ]
  },
  {
   "cell_type": "code",
   "execution_count": 80,
   "metadata": {},
   "outputs": [
    {
     "name": "stdout",
     "output_type": "stream",
     "text": [
      "+------+-------------+\n",
      "|UserId|num_thumbs_up|\n",
      "+------+-------------+\n",
      "|100010|           17|\n",
      "|200002|           21|\n",
      "|    51|          100|\n",
      "|   124|          171|\n",
      "|     7|            7|\n",
      "+------+-------------+\n",
      "only showing top 5 rows\n",
      "\n"
     ]
    }
   ],
   "source": [
    "# number thumbs up\n",
    "num_thumbs_up = df_clean.filter(df_clean.page == 'Thumbs Up').groupby('UserId').count().withColumnRenamed('count', 'num_thumbs_up')\n",
    "num_thumbs_up.show(5)"
   ]
  },
  {
   "cell_type": "code",
   "execution_count": 81,
   "metadata": {},
   "outputs": [
    {
     "name": "stdout",
     "output_type": "stream",
     "text": [
      "+------+---------------+\n",
      "|UserId|num_thumbs_down|\n",
      "+------+---------------+\n",
      "|100010|              5|\n",
      "|200002|              6|\n",
      "|    51|             21|\n",
      "|   124|             41|\n",
      "|     7|              1|\n",
      "+------+---------------+\n",
      "only showing top 5 rows\n",
      "\n"
     ]
    }
   ],
   "source": [
    "# number thumbs down\n",
    "num_thumbs_down = df_clean.filter(df_clean.page == 'Thumbs Down').groupby('UserId').count().withColumnRenamed('count', 'num_thumbs_down')\n",
    "num_thumbs_down.show(5)"
   ]
  },
  {
   "cell_type": "code",
   "execution_count": 93,
   "metadata": {},
   "outputs": [
    {
     "name": "stdout",
     "output_type": "stream",
     "text": [
      "+------+------+\n",
      "|userId|gender|\n",
      "+------+------+\n",
      "|    73|     0|\n",
      "|    37|     1|\n",
      "|    19|     0|\n",
      "|   134|     1|\n",
      "|   139|     1|\n",
      "+------+------+\n",
      "only showing top 5 rows\n",
      "\n"
     ]
    }
   ],
   "source": [
    "# gender encoding\n",
    "gender_flag = udf(lambda x: 1 if x == \"M\" else 0, IntegerType())\n",
    "gender = df_clean.withColumn('gender', gender_flag('gender'))\n",
    "gender = gender.select('userId', 'gender').dropDuplicates()\n",
    "gender.show(5)\n"
   ]
  },
  {
   "cell_type": "code",
   "execution_count": 92,
   "metadata": {},
   "outputs": [
    {
     "name": "stdout",
     "output_type": "stream",
     "text": [
      "+------+---------+-------------------+\n",
      "|userId|sessionId|   num_sessions_hrs|\n",
      "+------+---------+-------------------+\n",
      "|   101|      635| 55.000277777777775|\n",
      "|   110|     1776| 1.3908333333333334|\n",
      "|   120|      627| 15.855555555555556|\n",
      "|   122|      691|0.30833333333333335|\n",
      "|   140|      798|0.16027777777777777|\n",
      "+------+---------+-------------------+\n",
      "only showing top 5 rows\n",
      "\n"
     ]
    }
   ],
   "source": [
    "# session length\n",
    "start = df_clean.groupby('userId', 'sessionId').min('ts').withColumnRenamed('min(ts)', 'start')\n",
    "end = df_clean.groupby('userId', 'sessionId').max('ts').withColumnRenamed('max(ts)' ,'end')\n",
    "\n",
    "num_sessions_hrs = start.join(end, ['userId', 'sessionId'])\n",
    "num_sessions_hrs = num_sessions_hrs.select('userId', 'sessionId', (((num_sessions_hrs.end - num_sessions_hrs.start) / (60*60*1000)).alias('num_sessions_hrs')))\n",
    "num_sessions_hrs.show(5)"
   ]
  },
  {
   "cell_type": "code",
   "execution_count": 71,
   "metadata": {},
   "outputs": [
    {
     "name": "stdout",
     "output_type": "stream",
     "text": [
      "+------+-----------+\n",
      "|userId|num_artists|\n",
      "+------+-----------+\n",
      "|100010|        252|\n",
      "|200002|        339|\n",
      "|   125|          8|\n",
      "|    51|       1385|\n",
      "|   124|       2232|\n",
      "+------+-----------+\n",
      "only showing top 5 rows\n",
      "\n"
     ]
    }
   ],
   "source": [
    "# number of artists\n",
    "num_artists = df_clean.filter(df_clean.page == 'NextSong').select('userId', 'artist').dropDuplicates().groupby('userId').count().withColumnRenamed('count', 'num_artists')\n",
    "num_artists.show(5)"
   ]
  },
  {
   "cell_type": "code",
   "execution_count": 89,
   "metadata": {},
   "outputs": [
    {
     "name": "stdout",
     "output_type": "stream",
     "text": [
      "+------+-------+\n",
      "|userId|stateCd|\n",
      "+------+-------+\n",
      "|    92|  MA-NH|\n",
      "|    73|     NY|\n",
      "|200004|     NC|\n",
      "|300020|     GA|\n",
      "|   121|     CA|\n",
      "+------+-------+\n",
      "only showing top 5 rows\n",
      "\n"
     ]
    }
   ],
   "source": [
    "#location feature by state\n",
    "extract_state = udf(lambda x: x.split(',')[1].strip())\n",
    "state = df_clean.withColumn('stateCd', extract_state(df_clean.location))\n",
    "state = state.select('userId', 'stateCd').dropDuplicates()\n",
    "state.show(5)"
   ]
  },
  {
   "cell_type": "code",
   "execution_count": 115,
   "metadata": {},
   "outputs": [
    {
     "name": "stdout",
     "output_type": "stream",
     "text": [
      "+------+-------+-------------+\n",
      "|userId|stateCd|stateCd_index|\n",
      "+------+-------+-------------+\n",
      "|    92|  MA-NH|         10.0|\n",
      "|    73|     NY|         13.0|\n",
      "|200004|     NC|          9.0|\n",
      "|300020|     GA|         17.0|\n",
      "|   121|     CA|          0.0|\n",
      "|100017|     AL|         18.0|\n",
      "|200022|  MO-IL|          8.0|\n",
      "+------+-------+-------------+\n",
      "only showing top 7 rows\n",
      "\n"
     ]
    }
   ],
   "source": [
    "#make numerical for modeling purposes\n",
    "state_indexer = StringIndexer(inputCol=\"stateCd\",outputCol=\"stateCd_index\")\n",
    "state_indexed = state_indexer.fit(state).transform(state)\n",
    "\n",
    "state_indexed.show(7)"
   ]
  },
  {
   "cell_type": "code",
   "execution_count": 119,
   "metadata": {},
   "outputs": [
    {
     "name": "stdout",
     "output_type": "stream",
     "text": [
      "+------+-------------+\n",
      "|userId|stateCd_index|\n",
      "+------+-------------+\n",
      "|     3|         34.0|\n",
      "|    81|         12.0|\n",
      "|   132|         16.0|\n",
      "|300015|          1.0|\n",
      "|    89|         17.0|\n",
      "+------+-------------+\n",
      "only showing top 5 rows\n",
      "\n"
     ]
    }
   ],
   "source": [
    "state_feature = state_indexed.select('userId', 'stateCd_index').dropDuplicates()\n",
    "state_feature.show(5)"
   ]
  },
  {
   "cell_type": "code",
   "execution_count": 90,
   "metadata": {},
   "outputs": [
    {
     "name": "stdout",
     "output_type": "stream",
     "text": [
      "+------+-----+\n",
      "|userId|level|\n",
      "+------+-----+\n",
      "|    73|    0|\n",
      "|    69|    1|\n",
      "|    37|    1|\n",
      "|   139|    1|\n",
      "|300007|    1|\n",
      "+------+-----+\n",
      "only showing top 5 rows\n",
      "\n"
     ]
    }
   ],
   "source": [
    "#level encoding\n",
    "level_flag = udf(lambda x: 1 if x == \"paid\" else 0, IntegerType())\n",
    "level = df_clean.withColumn('level', level_flag('level'))\n",
    "level = level.select('userId', 'level').dropDuplicates()\n",
    "level.show(5)"
   ]
  },
  {
   "cell_type": "code",
   "execution_count": 91,
   "metadata": {},
   "outputs": [
    {
     "name": "stdout",
     "output_type": "stream",
     "text": [
      "+------+-----+\n",
      "|userId|churn|\n",
      "+------+-----+\n",
      "|100010|    0|\n",
      "|200002|    0|\n",
      "|   125|    1|\n",
      "|   124|    0|\n",
      "|    51|    1|\n",
      "+------+-----+\n",
      "only showing top 5 rows\n",
      "\n"
     ]
    }
   ],
   "source": [
    "# churn\n",
    "churn = df_clean.select('userId', 'churn').dropDuplicates()\n",
    "churn.show(5)"
   ]
  },
  {
   "cell_type": "code",
   "execution_count": 141,
   "metadata": {},
   "outputs": [
    {
     "name": "stdout",
     "output_type": "stream",
     "text": [
      "+------+-----+------------------+-------------+---------------+---------+-------------------+-----------+------+-----+-------------+\n",
      "|userId|churn| avgSongPerSession|num_thumbs_up|num_thumbs_down|sessionId|   num_sessions_hrs|num_artists|gender|level|stateCd_index|\n",
      "+------+-----+------------------+-------------+---------------+---------+-------------------+-----------+------+-----+-------------+\n",
      "|100010|    0|39.285714285714285|           17|              5|      174|  5.383333333333334|        252|     0|    0|          5.0|\n",
      "|100010|    0|39.285714285714285|           17|              5|       31| 1.8647222222222222|        252|     0|    0|          5.0|\n",
      "|100010|    0|39.285714285714285|           17|              5|      118| 2.7544444444444443|        252|     0|    0|          5.0|\n",
      "|100010|    0|39.285714285714285|           17|              5|       78|0.37583333333333335|        252|     0|    0|          5.0|\n",
      "|100010|    0|39.285714285714285|           17|              5|      133| 3.5541666666666667|        252|     0|    0|          5.0|\n",
      "+------+-----+------------------+-------------+---------------+---------+-------------------+-----------+------+-----+-------------+\n",
      "only showing top 5 rows\n",
      "\n"
     ]
    }
   ],
   "source": [
    "# combining features for model into dataframe\n",
    "data =  churn.join(avg_songs,'userId') \\\n",
    "    .join(num_thumbs_up, 'userId') \\\n",
    "    .join(num_thumbs_down,'userId') \\\n",
    "    .join(num_sessions_hrs,'userId') \\\n",
    "    .join(num_artists,'userId') \\\n",
    "    .join(gender,'userId') \\\n",
    "    .join(level,'userId') \\\n",
    "    .join(state_feature,'userId') \\\n",
    "\n",
    "data.show(5)"
   ]
  },
  {
   "cell_type": "code",
   "execution_count": 96,
   "metadata": {},
   "outputs": [
    {
     "name": "stdout",
     "output_type": "stream",
     "text": [
      "5603\n",
      "5603\n"
     ]
    }
   ],
   "source": [
    "#checking that there aren't duplicates\n",
    "print(data.count())\n",
    "print(data.dropDuplicates().count())"
   ]
  },
  {
   "cell_type": "code",
   "execution_count": 97,
   "metadata": {},
   "outputs": [
    {
     "name": "stdout",
     "output_type": "stream",
     "text": [
      "5603\n"
     ]
    }
   ],
   "source": [
    "#checking that there aren't nulls\n",
    "print(data.dropna(how='any').count())"
   ]
  },
  {
   "cell_type": "code",
   "execution_count": 142,
   "metadata": {},
   "outputs": [
    {
     "name": "stdout",
     "output_type": "stream",
     "text": [
      "root\n",
      " |-- userId: string (nullable = true)\n",
      " |-- churn: long (nullable = true)\n",
      " |-- avgSongPerSession: double (nullable = true)\n",
      " |-- num_thumbs_up: long (nullable = false)\n",
      " |-- num_thumbs_down: long (nullable = false)\n",
      " |-- sessionId: long (nullable = true)\n",
      " |-- num_sessions_hrs: double (nullable = true)\n",
      " |-- num_artists: long (nullable = false)\n",
      " |-- gender: integer (nullable = true)\n",
      " |-- level: integer (nullable = true)\n",
      " |-- stateCd_index: double (nullable = false)\n",
      "\n"
     ]
    }
   ],
   "source": [
    "#show dtype for each column\n",
    "data.printSchema()"
   ]
  },
  {
   "cell_type": "code",
   "execution_count": 149,
   "metadata": {},
   "outputs": [],
   "source": [
    "data = data.withColumn('userId', data['userId'].cast(sT.IntegerType()))"
   ]
  },
  {
   "cell_type": "code",
   "execution_count": 150,
   "metadata": {},
   "outputs": [],
   "source": [
    "#need to convert all dtypes to integer\n",
    "for col in data.columns[1:8]:\n",
    "    data = data.withColumn(col, data[col].cast('float'))\n"
   ]
  },
  {
   "cell_type": "code",
   "execution_count": 147,
   "metadata": {},
   "outputs": [],
   "source": [
    "data = data.withColumn(data.columns[10], data[data.columns[10]].cast(sT.IntegerType()))"
   ]
  },
  {
   "cell_type": "code",
   "execution_count": 151,
   "metadata": {},
   "outputs": [
    {
     "name": "stdout",
     "output_type": "stream",
     "text": [
      "root\n",
      " |-- userId: integer (nullable = true)\n",
      " |-- churn: float (nullable = true)\n",
      " |-- avgSongPerSession: float (nullable = true)\n",
      " |-- num_thumbs_up: float (nullable = false)\n",
      " |-- num_thumbs_down: float (nullable = false)\n",
      " |-- sessionId: float (nullable = true)\n",
      " |-- num_sessions_hrs: float (nullable = true)\n",
      " |-- num_artists: float (nullable = false)\n",
      " |-- gender: integer (nullable = true)\n",
      " |-- level: integer (nullable = true)\n",
      " |-- stateCd_index: integer (nullable = true)\n",
      "\n"
     ]
    }
   ],
   "source": [
    "#double check everything was converted properly\n",
    "data.printSchema()"
   ]
  },
  {
   "cell_type": "code",
   "execution_count": 139,
   "metadata": {},
   "outputs": [],
   "source": [
    "#saving the features df to a csv file\n",
    "data.write.save('features_for_modeling.csv', format='csv', header=True)"
   ]
  },
  {
   "cell_type": "markdown",
   "metadata": {},
   "source": [
    "# Modeling\n",
    "Split the full dataset into train, test, and validation sets. Test out several of the machine learning methods you learned. Evaluate the accuracy of the various models, tuning parameters as necessary. Determine your winning model based on test accuracy and report results on the validation set. Since the churned users are a fairly small subset, I suggest using F1 score as the metric to optimize."
   ]
  },
  {
   "cell_type": "code",
   "execution_count": 152,
   "metadata": {},
   "outputs": [
    {
     "name": "stdout",
     "output_type": "stream",
     "text": [
      "+------+-----+-----------------+-------------+---------------+---------+----------------+-----------+------+-----+-------------+\n",
      "|userId|churn|avgSongPerSession|num_thumbs_up|num_thumbs_down|sessionId|num_sessions_hrs|num_artists|gender|level|stateCd_index|\n",
      "+------+-----+-----------------+-------------+---------------+---------+----------------+-----------+------+-----+-------------+\n",
      "|100010|  0.0|        39.285713|         17.0|            5.0|    174.0|        5.383333|      252.0|     0|    0|            5|\n",
      "|100010|  0.0|        39.285713|         17.0|            5.0|     31.0|       1.8647223|      252.0|     0|    0|            5|\n",
      "|100010|  0.0|        39.285713|         17.0|            5.0|    118.0|       2.7544444|      252.0|     0|    0|            5|\n",
      "|100010|  0.0|        39.285713|         17.0|            5.0|     78.0|      0.37583333|      252.0|     0|    0|            5|\n",
      "|100010|  0.0|        39.285713|         17.0|            5.0|    133.0|       3.5541666|      252.0|     0|    0|            5|\n",
      "+------+-----+-----------------+-------------+---------------+---------+----------------+-----------+------+-----+-------------+\n",
      "only showing top 5 rows\n",
      "\n"
     ]
    }
   ],
   "source": [
    "data.show(5)"
   ]
  },
  {
   "cell_type": "code",
   "execution_count": 155,
   "metadata": {},
   "outputs": [],
   "source": [
    "assembler = VectorAssembler(inputCols=data.columns[2:], outputCol=\"featureVector\")\n",
    "features_df = assembler.transform(data)"
   ]
  },
  {
   "cell_type": "code",
   "execution_count": 159,
   "metadata": {},
   "outputs": [],
   "source": [
    "scaler = StandardScaler(inputCol=\"featureVector\", outputCol=\"scaledFeatures\", withStd=True)\n",
    "scalerModel = scaler.fit(features_df)\n",
    "scaled_df = scalerModel.transform(features_df)"
   ]
  },
  {
   "cell_type": "code",
   "execution_count": 162,
   "metadata": {},
   "outputs": [
    {
     "name": "stdout",
     "output_type": "stream",
     "text": [
      "+-----+--------------------+\n",
      "|label|      scaledFeatures|\n",
      "+-----+--------------------+\n",
      "|  0.0|[1.24384234224656...|\n",
      "|  0.0|[1.24384234224656...|\n",
      "+-----+--------------------+\n",
      "only showing top 2 rows\n",
      "\n"
     ]
    }
   ],
   "source": [
    "scaled_df = scaled_df.select(scaled_df.churn.alias(\"label\"), scaled_df.scaledFeatures)\n",
    "scaled_df.show(2)"
   ]
  },
  {
   "cell_type": "code",
   "execution_count": 164,
   "metadata": {},
   "outputs": [],
   "source": [
    "train, rest = scaled_df.randomSplit([0.8, 0.2], seed=42)\n",
    "test, validation = rest.randomSplit([0.5, 0.5], seed=42)"
   ]
  },
  {
   "cell_type": "markdown",
   "metadata": {},
   "source": [
    "### Linear Regression"
   ]
  },
  {
   "cell_type": "code",
   "execution_count": 190,
   "metadata": {},
   "outputs": [
    {
     "data": {
      "text/plain": [
       "[0.7661612547169425,\n",
       " 0.7571739760582653,\n",
       " 0.7485293882232835,\n",
       " 0.7486391493565965]"
      ]
     },
     "execution_count": 190,
     "metadata": {},
     "output_type": "execute_result"
    }
   ],
   "source": [
    "lr =  LogisticRegression(featuresCol='scaledFeatures', labelCol='label', maxIter=10)\n",
    "lr_model = lr.fit(train)\n",
    "\n",
    "paramGrid = ParamGridBuilder() \\\n",
    "    .addGrid(lr.regParam,[0.0, 0.01, 0.05, 0.1]) \\\n",
    "    .build()\n",
    "\n",
    "crossval = CrossValidator(estimator=lr,\n",
    "                          estimatorParamMaps=paramGrid,\n",
    "                          evaluator=MulticlassClassificationEvaluator(metricName='f1'),\n",
    "                          numFolds=3)\n",
    "\n",
    "cv_model = crossval.fit(train)\n",
    "cv_model.avgMetrics"
   ]
  },
  {
   "cell_type": "code",
   "execution_count": 191,
   "metadata": {},
   "outputs": [],
   "source": [
    "results_valid = cv_model.transform(validation)\n",
    "results_test = cv_model.transform(test)\n",
    "results_train = cv_model.transform(train)"
   ]
  },
  {
   "cell_type": "code",
   "execution_count": 192,
   "metadata": {},
   "outputs": [
    {
     "name": "stdout",
     "output_type": "stream",
     "text": [
      "0.8270306556276572\n",
      "0.766238159817058\n",
      "0.8509433962264151\n",
      "0.7941175332251914\n",
      "0.8394039735099338\n",
      "0.7819726767941451\n"
     ]
    }
   ],
   "source": [
    "evaluator = MulticlassClassificationEvaluator(predictionCol=\"prediction\")\n",
    "print(evaluator.evaluate(results_train, {evaluator.metricName: \"accuracy\"}))\n",
    "print(evaluator.evaluate(results_train, {evaluator.metricName: \"f1\"}))\n",
    "print(evaluator.evaluate(results_test, {evaluator.metricName: \"accuracy\"}))\n",
    "print(evaluator.evaluate(results_test, {evaluator.metricName: \"f1\"}))\n",
    "print(evaluator.evaluate(results_valid, {evaluator.metricName: \"accuracy\"}))\n",
    "print(evaluator.evaluate(results_valid, {evaluator.metricName: \"f1\"}))"
   ]
  },
  {
   "cell_type": "markdown",
   "metadata": {},
   "source": [
    "### Random Forest"
   ]
  },
  {
   "cell_type": "code",
   "execution_count": 187,
   "metadata": {},
   "outputs": [
    {
     "data": {
      "text/plain": [
       "[0.8677206237869821]"
      ]
     },
     "execution_count": 187,
     "metadata": {},
     "output_type": "execute_result"
    }
   ],
   "source": [
    "rf =  RandomForestClassifier(featuresCol='scaledFeatures', labelCol='label')\n",
    "rf_model = rf.fit(train)\n",
    "\n",
    "rf_paramGrid = ParamGridBuilder().build()\n",
    "\n",
    "rf_crossval = CrossValidator(estimator=rf,\n",
    "                          estimatorParamMaps=rf_paramGrid,\n",
    "                          evaluator=MulticlassClassificationEvaluator(metricName='f1'),\n",
    "                          numFolds=3)\n",
    "\n",
    "rf_cv_model = rf_crossval.fit(train)\n",
    "rf_cv_model.avgMetrics"
   ]
  },
  {
   "cell_type": "code",
   "execution_count": 188,
   "metadata": {},
   "outputs": [],
   "source": [
    "rf_results_valid = rf_cv_model.transform(validation)\n",
    "rf_results_test = rf_cv_model.transform(test)\n",
    "rf_results_train = rf_cv_model.transform(train)"
   ]
  },
  {
   "cell_type": "code",
   "execution_count": 189,
   "metadata": {},
   "outputs": [
    {
     "name": "stdout",
     "output_type": "stream",
     "text": [
      "0.8878943835309913\n",
      "0.8645791129562246\n",
      "0.9132075471698113\n",
      "0.8971613252685746\n",
      "0.9006622516556292\n",
      "0.8801393487858719\n"
     ]
    }
   ],
   "source": [
    "evaluator = MulticlassClassificationEvaluator(predictionCol=\"prediction\")\n",
    "print(evaluator.evaluate(rf_results_train, {evaluator.metricName: \"accuracy\"}))\n",
    "print(evaluator.evaluate(rf_results_train, {evaluator.metricName: \"f1\"}))\n",
    "print(evaluator.evaluate(rf_results_test, {evaluator.metricName: \"accuracy\"}))\n",
    "print(evaluator.evaluate(rf_results_test, {evaluator.metricName: \"f1\"}))\n",
    "print(evaluator.evaluate(rf_results_valid, {evaluator.metricName: \"accuracy\"}))\n",
    "print(evaluator.evaluate(rf_results_valid, {evaluator.metricName: \"f1\"}))"
   ]
  },
  {
   "cell_type": "markdown",
   "metadata": {},
   "source": [
    "Wow, the RandomForestClassifier really performed well!"
   ]
  },
  {
   "cell_type": "markdown",
   "metadata": {},
   "source": [
    "# Final Steps\n",
    "Clean up your code, adding comments and renaming variables to make the code easier to read and maintain. Refer to the Spark Project Overview page and Data Scientist Capstone Project Rubric to make sure you are including all components of the capstone project and meet all expectations. Remember, this includes thorough documentation in a README file in a Github repository, as well as a web app or blog post."
   ]
  },
  {
   "cell_type": "code",
   "execution_count": null,
   "metadata": {},
   "outputs": [],
   "source": []
  },
  {
   "cell_type": "markdown",
   "metadata": {},
   "source": [
    "# Resources\n",
    "\n",
    "https://www.datacamp.com/community/data-science-cheatsheets?page=2\n",
    "\n",
    "https://www.datacamp.com/community/tutorials/categorical-data#spark\n",
    "\n"
   ]
  }
 ],
 "metadata": {
  "kernelspec": {
   "display_name": "Python 3",
   "language": "python",
   "name": "python3"
  },
  "language_info": {
   "codemirror_mode": {
    "name": "ipython",
    "version": 3
   },
   "file_extension": ".py",
   "mimetype": "text/x-python",
   "name": "python",
   "nbconvert_exporter": "python",
   "pygments_lexer": "ipython3",
   "version": "3.7.1"
  }
 },
 "nbformat": 4,
 "nbformat_minor": 2
}
